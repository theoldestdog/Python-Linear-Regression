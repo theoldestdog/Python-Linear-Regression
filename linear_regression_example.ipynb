{
 "cells": [
  {
   "cell_type": "code",
   "execution_count": 3,
   "id": "bd94f51d-97a4-4b0a-be96-d06668083cd4",
   "metadata": {},
   "outputs": [],
   "source": [
    "import pandas as pd\n",
    "import numpy as np\n",
    "import matplotlib.pyplot as plt\n",
    "import math\n",
    "import statsmodels.api as sm\n",
    "\n",
    "from sklearn.model_selection import train_test_split\n",
    "from sklearn.linear_model import LinearRegression\n",
    "from sklearn.metrics import mean_squared_error, r2_score, mean_absolute_error\n",
    "\n",
    "from scipy import stats\n",
    "from scipy.stats import kurtosis, skew\n",
    "\n",
    "%matplotlib inline"
   ]
  },
  {
   "cell_type": "markdown",
   "id": "ba9063d8-923e-4e84-8313-20e393bee2eb",
   "metadata": {},
   "source": [
    "Option to download via api and json"
   ]
  },
  {
   "cell_type": "code",
   "execution_count": 4,
   "id": "40e1e178-09c4-4657-b9f3-6e2eeb056e42",
   "metadata": {},
   "outputs": [],
   "source": [
    "#url = 'https://data.cdc.gov/resource/xkkf-xrst.json'\n",
    "#df = pd.read_json(url)\n",
    "#df.tail(75)\n",
    "#df.to_csv('covid_excess_deaths_usa_1.csv')"
   ]
  },
  {
   "cell_type": "markdown",
   "id": "ea78fddd-907a-4422-98fa-6e4c8cf6529d",
   "metadata": {},
   "source": [
    "Clean up the data and do some visual checks on data"
   ]
  },
  {
   "cell_type": "code",
   "execution_count": 5,
   "id": "d1f1614d-32de-4730-b1da-0e8d8c0a48a0",
   "metadata": {},
   "outputs": [
    {
     "data": {
      "text/plain": [
       "obs_date              False\n",
       "unemp_rate            False\n",
       "cpi                   False\n",
       "cons_loan_interest    False\n",
       "dtype: bool"
      ]
     },
     "metadata": {},
     "output_type": "display_data"
    },
    {
     "data": {
      "text/html": [
       "<div>\n",
       "<style scoped>\n",
       "    .dataframe tbody tr th:only-of-type {\n",
       "        vertical-align: middle;\n",
       "    }\n",
       "\n",
       "    .dataframe tbody tr th {\n",
       "        vertical-align: top;\n",
       "    }\n",
       "\n",
       "    .dataframe thead th {\n",
       "        text-align: right;\n",
       "    }\n",
       "</style>\n",
       "<table border=\"1\" class=\"dataframe\">\n",
       "  <thead>\n",
       "    <tr style=\"text-align: right;\">\n",
       "      <th></th>\n",
       "      <th>cpi</th>\n",
       "      <th>cons_loan_interest</th>\n",
       "    </tr>\n",
       "    <tr>\n",
       "      <th>obs_date</th>\n",
       "      <th></th>\n",
       "      <th></th>\n",
       "    </tr>\n",
       "  </thead>\n",
       "  <tbody>\n",
       "    <tr>\n",
       "      <th>1972-01-01</th>\n",
       "      <td>41.333</td>\n",
       "      <td>9.96</td>\n",
       "    </tr>\n",
       "    <tr>\n",
       "      <th>1972-04-01</th>\n",
       "      <td>41.600</td>\n",
       "      <td>9.96</td>\n",
       "    </tr>\n",
       "    <tr>\n",
       "      <th>1972-07-01</th>\n",
       "      <td>41.933</td>\n",
       "      <td>10.02</td>\n",
       "    </tr>\n",
       "    <tr>\n",
       "      <th>1972-10-01</th>\n",
       "      <td>42.367</td>\n",
       "      <td>10.02</td>\n",
       "    </tr>\n",
       "    <tr>\n",
       "      <th>1973-01-01</th>\n",
       "      <td>43.033</td>\n",
       "      <td>10.05</td>\n",
       "    </tr>\n",
       "  </tbody>\n",
       "</table>\n",
       "</div>"
      ],
      "text/plain": [
       "               cpi  cons_loan_interest\n",
       "obs_date                              \n",
       "1972-01-01  41.333                9.96\n",
       "1972-04-01  41.600                9.96\n",
       "1972-07-01  41.933               10.02\n",
       "1972-10-01  42.367               10.02\n",
       "1973-01-01  43.033               10.05"
      ]
     },
     "execution_count": 5,
     "metadata": {},
     "output_type": "execute_result"
    }
   ],
   "source": [
    "df = pd.read_csv(r'C:\\Users\\alexd\\Downloads\\fred_cpi_ui_int.csv')\n",
    "df.dtypes\n",
    "df.head()\n",
    "display(df.isna().any())\n",
    "\n",
    "df = df.set_index('obs_date')\n",
    "df.drop('unemp_rate', axis =1, inplace=True)\n",
    "df.head()\n",
    "#x = df['cpi']\n",
    "#y = df['cons_loan_interest']\n",
    "#plt.plot(x, y, '.', color ='cadetblue', label='CPI vs Ave House Price')\n",
    "#plt.xlabel('CPI')\n",
    "#plt.ylabel('Loan Interest')"
   ]
  },
  {
   "cell_type": "markdown",
   "id": "3a6100b2-d90b-453d-8c08-e2f338101c28",
   "metadata": {},
   "source": [
    "Use built in correlation method to do a check"
   ]
  },
  {
   "cell_type": "code",
   "execution_count": 6,
   "id": "40d3687b-a258-4d1b-b027-363a44330dd1",
   "metadata": {},
   "outputs": [
    {
     "data": {
      "text/html": [
       "<div>\n",
       "<style scoped>\n",
       "    .dataframe tbody tr th:only-of-type {\n",
       "        vertical-align: middle;\n",
       "    }\n",
       "\n",
       "    .dataframe tbody tr th {\n",
       "        vertical-align: top;\n",
       "    }\n",
       "\n",
       "    .dataframe thead th {\n",
       "        text-align: right;\n",
       "    }\n",
       "</style>\n",
       "<table border=\"1\" class=\"dataframe\">\n",
       "  <thead>\n",
       "    <tr style=\"text-align: right;\">\n",
       "      <th></th>\n",
       "      <th>cpi</th>\n",
       "      <th>cons_loan_interest</th>\n",
       "    </tr>\n",
       "  </thead>\n",
       "  <tbody>\n",
       "    <tr>\n",
       "      <th>cpi</th>\n",
       "      <td>1.00000</td>\n",
       "      <td>-0.83636</td>\n",
       "    </tr>\n",
       "    <tr>\n",
       "      <th>cons_loan_interest</th>\n",
       "      <td>-0.83636</td>\n",
       "      <td>1.00000</td>\n",
       "    </tr>\n",
       "  </tbody>\n",
       "</table>\n",
       "</div>"
      ],
      "text/plain": [
       "                        cpi  cons_loan_interest\n",
       "cpi                 1.00000            -0.83636\n",
       "cons_loan_interest -0.83636             1.00000"
      ]
     },
     "execution_count": 6,
     "metadata": {},
     "output_type": "execute_result"
    }
   ],
   "source": [
    "df.corr() "
   ]
  },
  {
   "cell_type": "markdown",
   "id": "e3b745f2-4f07-43fe-9b3b-3dfa91ac7586",
   "metadata": {},
   "source": [
    "Check on std statistics from the describe method"
   ]
  },
  {
   "cell_type": "code",
   "execution_count": 7,
   "id": "edac8103-ca3e-4d38-a3b7-2297a10394b7",
   "metadata": {},
   "outputs": [
    {
     "data": {
      "text/html": [
       "<div>\n",
       "<style scoped>\n",
       "    .dataframe tbody tr th:only-of-type {\n",
       "        vertical-align: middle;\n",
       "    }\n",
       "\n",
       "    .dataframe tbody tr th {\n",
       "        vertical-align: top;\n",
       "    }\n",
       "\n",
       "    .dataframe thead th {\n",
       "        text-align: right;\n",
       "    }\n",
       "</style>\n",
       "<table border=\"1\" class=\"dataframe\">\n",
       "  <thead>\n",
       "    <tr style=\"text-align: right;\">\n",
       "      <th></th>\n",
       "      <th>cpi</th>\n",
       "      <th>cons_loan_interest</th>\n",
       "    </tr>\n",
       "  </thead>\n",
       "  <tbody>\n",
       "    <tr>\n",
       "      <th>count</th>\n",
       "      <td>205.000000</td>\n",
       "      <td>205.000000</td>\n",
       "    </tr>\n",
       "    <tr>\n",
       "      <th>mean</th>\n",
       "      <td>159.897600</td>\n",
       "      <td>8.878829</td>\n",
       "    </tr>\n",
       "    <tr>\n",
       "      <th>std</th>\n",
       "      <td>68.768757</td>\n",
       "      <td>3.214043</td>\n",
       "    </tr>\n",
       "    <tr>\n",
       "      <th>min</th>\n",
       "      <td>41.333000</td>\n",
       "      <td>4.000000</td>\n",
       "    </tr>\n",
       "    <tr>\n",
       "      <th>25%</th>\n",
       "      <td>105.300000</td>\n",
       "      <td>6.430000</td>\n",
       "    </tr>\n",
       "    <tr>\n",
       "      <th>50%</th>\n",
       "      <td>160.800000</td>\n",
       "      <td>8.700000</td>\n",
       "    </tr>\n",
       "    <tr>\n",
       "      <th>75%</th>\n",
       "      <td>217.934000</td>\n",
       "      <td>11.070000</td>\n",
       "    </tr>\n",
       "    <tr>\n",
       "      <th>max</th>\n",
       "      <td>299.023000</td>\n",
       "      <td>17.360000</td>\n",
       "    </tr>\n",
       "  </tbody>\n",
       "</table>\n",
       "</div>"
      ],
      "text/plain": [
       "              cpi  cons_loan_interest\n",
       "count  205.000000          205.000000\n",
       "mean   159.897600            8.878829\n",
       "std     68.768757            3.214043\n",
       "min     41.333000            4.000000\n",
       "25%    105.300000            6.430000\n",
       "50%    160.800000            8.700000\n",
       "75%    217.934000           11.070000\n",
       "max    299.023000           17.360000"
      ]
     },
     "execution_count": 7,
     "metadata": {},
     "output_type": "execute_result"
    }
   ],
   "source": [
    "df.describe()"
   ]
  },
  {
   "cell_type": "code",
   "execution_count": 8,
   "id": "49d8eff8-4a05-403a-9162-9872059bb07b",
   "metadata": {},
   "outputs": [
    {
     "data": {
      "text/plain": [
       "array([[<AxesSubplot:title={'center':'cpi'}>,\n",
       "        <AxesSubplot:title={'center':'cons_loan_interest'}>]],\n",
       "      dtype=object)"
      ]
     },
     "execution_count": 8,
     "metadata": {},
     "output_type": "execute_result"
    },
    {
     "data": {
      "image/png": "[encoded data removed]",
      "text/plain": [
       "<Figure size 640x480 with 2 Axes>"
      ]
     },
     "metadata": {},
     "output_type": "display_data"
    }
   ],
   "source": [
    "df.hist(grid = False, color = 'cadetblue')"
   ]
  },
  {
   "cell_type": "markdown",
   "id": "b9bd93c6-89ae-4073-85ba-0a918bf5fa2e",
   "metadata": {},
   "source": [
    "Kurtosis is the pointiness of the data and skewness is the symmetry of the data around the peak"
   ]
  },
  {
   "cell_type": "code",
   "execution_count": 9,
   "id": "4443b8ab-39c0-4b3a-b80a-1b7e6f90b377",
   "metadata": {},
   "outputs": [
    {
     "data": {
      "text/plain": [
       "'CPI Kurtosis: -1.1'"
      ]
     },
     "metadata": {},
     "output_type": "display_data"
    },
    {
     "data": {
      "text/plain": [
       "'Loans Kurtosis: -0.35'"
      ]
     },
     "metadata": {},
     "output_type": "display_data"
    },
    {
     "data": {
      "text/plain": [
       "'CPI Skew: -0.026'"
      ]
     },
     "metadata": {},
     "output_type": "display_data"
    },
    {
     "data": {
      "text/plain": [
       "'Loans Skew: 0.45'"
      ]
     },
     "metadata": {},
     "output_type": "display_data"
    }
   ],
   "source": [
    "cpi_kurtosis = kurtosis(df['cpi'], fisher = True)\n",
    "loan_kurtosis = kurtosis(df['cons_loan_interest'], fisher = True)\n",
    "\n",
    "cpi_skew = skew(df['cpi'])\n",
    "loan_skew = skew(df['cons_loan_interest'])\n",
    "\n",
    "display(\"CPI Kurtosis: {:.2}\".format(cpi_kurtosis))\n",
    "display(\"Loans Kurtosis: {:.2}\".format(loan_kurtosis))\n",
    "\n",
    "display('CPI Skew: {:.2}'.format(cpi_skew))\n",
    "display('Loans Skew: {:.2}'.format(loan_skew))"
   ]
  },
  {
   "cell_type": "markdown",
   "id": "da42486f-4b40-4cbf-8a1a-41710f52c386",
   "metadata": {},
   "source": [
    "Kurtosis and skewness test for the variable. These will increase as pop'n size increases"
   ]
  },
  {
   "cell_type": "code",
   "execution_count": 10,
   "id": "1fd04e3b-c769-4796-a994-7cddbe32de59",
   "metadata": {},
   "outputs": [
    {
     "data": {
      "text/plain": [
       "'CPI'"
      ]
     },
     "metadata": {},
     "output_type": "display_data"
    },
    {
     "data": {
      "text/plain": [
       "KurtosistestResult(statistic=-6.755356203100705, pvalue=1.4248476164333782e-11)"
      ]
     },
     "metadata": {},
     "output_type": "display_data"
    },
    {
     "data": {
      "text/plain": [
       "SkewtestResult(statistic=-0.15958241638434725, pvalue=0.8732100311458437)"
      ]
     },
     "metadata": {},
     "output_type": "display_data"
    },
    {
     "data": {
      "text/plain": [
       "'Loan Interst'"
      ]
     },
     "metadata": {},
     "output_type": "display_data"
    },
    {
     "data": {
      "text/plain": [
       "KurtosistestResult(statistic=-1.0419434948040647, pvalue=0.2974378770943763)"
      ]
     },
     "metadata": {},
     "output_type": "display_data"
    },
    {
     "data": {
      "text/plain": [
       "SkewtestResult(statistic=2.5846965820237866, pvalue=0.009746472585593484)"
      ]
     },
     "metadata": {},
     "output_type": "display_data"
    }
   ],
   "source": [
    "\n",
    "display('CPI')\n",
    "display(stats.kurtosistest(df['cpi']))\n",
    "display(stats.skewtest(df['cpi']))\n",
    "\n",
    "display('Loan Interst')\n",
    "display(stats.kurtosistest(df['cons_loan_interest']))       \n",
    "display(stats.skewtest(df['cons_loan_interest']))       "
   ]
  },
  {
   "cell_type": "markdown",
   "id": "0c5a1abf-79a0-48f8-9c70-4c09a92e22d3",
   "metadata": {},
   "source": [
    "Split df into Y = output and X = input for modelling\n",
    "train and test"
   ]
  },
  {
   "cell_type": "code",
   "execution_count": 11,
   "id": "27e5e51a-a6cf-4574-b600-adde6e18189b",
   "metadata": {},
   "outputs": [
    {
     "data": {
      "text/plain": [
       "{'copy_X': True,\n",
       " 'fit_intercept': True,\n",
       " 'n_jobs': None,\n",
       " 'normalize': 'deprecated',\n",
       " 'positive': False}"
      ]
     },
     "execution_count": 11,
     "metadata": {},
     "output_type": "execute_result"
    }
   ],
   "source": [
    "Y = df.drop('cpi', axis=1)\n",
    "X = df.drop('cons_loan_interest', axis=1)\n",
    "\n",
    "#print(X, Y)\n",
    "\n",
    "X_train, X_test, y_train, y_test = train_test_split(X, Y, test_size = 0.20, random_state = 1)\n",
    "\n",
    "regression_model = LinearRegression()\n",
    "regression_model.fit(X_train, y_train)\n",
    "regression_model.get_params()\n"
   ]
  },
  {
   "cell_type": "code",
   "execution_count": 12,
   "id": "74688a20-fc91-479b-a88c-3301a2004c38",
   "metadata": {},
   "outputs": [
    {
     "data": {
      "text/html": [
       "<div>\n",
       "<style scoped>\n",
       "    .dataframe tbody tr th:only-of-type {\n",
       "        vertical-align: middle;\n",
       "    }\n",
       "\n",
       "    .dataframe tbody tr th {\n",
       "        vertical-align: top;\n",
       "    }\n",
       "\n",
       "    .dataframe thead th {\n",
       "        text-align: right;\n",
       "    }\n",
       "</style>\n",
       "<table border=\"1\" class=\"dataframe\">\n",
       "  <thead>\n",
       "    <tr style=\"text-align: right;\">\n",
       "      <th></th>\n",
       "      <th>0</th>\n",
       "      <th>1</th>\n",
       "    </tr>\n",
       "  </thead>\n",
       "  <tbody>\n",
       "    <tr>\n",
       "      <th>0</th>\n",
       "      <td>cpi</td>\n",
       "      <td>[-0.03793068551263477]</td>\n",
       "    </tr>\n",
       "  </tbody>\n",
       "</table>\n",
       "</div>"
      ],
      "text/plain": [
       "     0                       1\n",
       "0  cpi  [-0.03793068551263477]"
      ]
     },
     "execution_count": 12,
     "metadata": {},
     "output_type": "execute_result"
    }
   ],
   "source": [
    "intercept = regression_model.intercept_[0]\n",
    "coefficient = regression_model.coef_[0][0]\n",
    "\n",
    "pd.DataFrame(zip(X.columns, regression_model.coef_))\n"
   ]
  },
  {
   "cell_type": "markdown",
   "id": "e7b878d9-c5cc-494c-b480-6fddc2d66312",
   "metadata": {},
   "source": [
    "Have to put this here otherwise the coefficient in the cell above won't show"
   ]
  },
  {
   "cell_type": "code",
   "execution_count": 14,
   "id": "34f689b6-9013-4838-9cdf-4e30786106e7",
   "metadata": {},
   "outputs": [
    {
     "name": "stdout",
     "output_type": "stream",
     "text": [
      " Regression model intercept is: [14.88069867]\n"
     ]
    }
   ],
   "source": [
    "print(' Regression model intercept is:', regression_model.intercept_)"
   ]
  },
  {
   "cell_type": "markdown",
   "id": "6debf79a-6a51-4185-9622-5719bb5a4cd3",
   "metadata": {},
   "source": [
    "Run model using X_test and look at the first 5 predictions"
   ]
  },
  {
   "cell_type": "code",
   "execution_count": 15,
   "id": "e1217048-f436-4bdd-a9f2-f54184057858",
   "metadata": {},
   "outputs": [
    {
     "data": {
      "text/plain": [
       "array([[ 9.69936703],\n",
       "       [ 8.94833946],\n",
       "       [ 6.648602  ],\n",
       "       [11.16349149],\n",
       "       [11.29245582]])"
      ]
     },
     "execution_count": 15,
     "metadata": {},
     "output_type": "execute_result"
    }
   ],
   "source": [
    "y_predict = regression_model.predict(X_test)\n",
    "\n",
    "y_predict[:5]"
   ]
  },
  {
   "cell_type": "markdown",
   "id": "53e18cf0-b95d-4521-93f8-64a984ab7fe6",
   "metadata": {},
   "source": [
    "Using SKLEARN for this evaluation\n",
    "Remodel our regression using OLS method Ordinary Least Squares method"
   ]
  },
  {
   "cell_type": "code",
   "execution_count": 16,
   "id": "2034caeb-0317-4492-8d9c-b5164db03977",
   "metadata": {},
   "outputs": [],
   "source": [
    "X2 = sm.add_constant(X)\n",
    "model = sm.OLS(Y, X2)\n",
    "est = model.fit()"
   ]
  },
  {
   "cell_type": "markdown",
   "id": "f45e40ad-de31-4580-bfd2-8272cc0f5f66",
   "metadata": {},
   "source": [
    "Run some confidence intervals at 95% std because we are using sample n and n# ot population N"
   ]
  },
  {
   "cell_type": "code",
   "execution_count": 17,
   "id": "2d2f8f99-4a16-4257-8372-e4918072f16f",
   "metadata": {},
   "outputs": [
    {
     "data": {
      "text/html": [
       "<div>\n",
       "<style scoped>\n",
       "    .dataframe tbody tr th:only-of-type {\n",
       "        vertical-align: middle;\n",
       "    }\n",
       "\n",
       "    .dataframe tbody tr th {\n",
       "        vertical-align: top;\n",
       "    }\n",
       "\n",
       "    .dataframe thead th {\n",
       "        text-align: right;\n",
       "    }\n",
       "</style>\n",
       "<table border=\"1\" class=\"dataframe\">\n",
       "  <thead>\n",
       "    <tr style=\"text-align: right;\">\n",
       "      <th></th>\n",
       "      <th>0</th>\n",
       "      <th>1</th>\n",
       "    </tr>\n",
       "  </thead>\n",
       "  <tbody>\n",
       "    <tr>\n",
       "      <th>const</th>\n",
       "      <td>14.512164</td>\n",
       "      <td>15.745952</td>\n",
       "    </tr>\n",
       "    <tr>\n",
       "      <th>cpi</th>\n",
       "      <td>-0.042634</td>\n",
       "      <td>-0.035543</td>\n",
       "    </tr>\n",
       "  </tbody>\n",
       "</table>\n",
       "</div>"
      ],
      "text/plain": [
       "               0          1\n",
       "const  14.512164  15.745952\n",
       "cpi    -0.042634  -0.035543"
      ]
     },
     "execution_count": 17,
     "metadata": {},
     "output_type": "execute_result"
    }
   ],
   "source": [
    "est.conf_int()"
   ]
  },
  {
   "cell_type": "markdown",
   "id": "28692010-34b3-4e94-adca-17d548ddcdee",
   "metadata": {},
   "source": [
    "Hypothesis testing Null is that there is no relationship between CPI and Consumer Loan Interest\n",
    "Desired p_value is < 0.05. If the p_values is < 0.05 we can reject the null and accept the alternate hypothesis\n",
    "p_value here is well under 0.05 so the null can be rejected and we can conclude there is a relationship between CPI and Consumer Loan Interest"
   ]
  },
  {
   "cell_type": "code",
   "execution_count": 18,
   "id": "1f5dc726-ba4b-429c-ad6c-104108592369",
   "metadata": {},
   "outputs": [
    {
     "data": {
      "text/plain": [
       "const    2.311681e-113\n",
       "cpi       6.694916e-55\n",
       "dtype: float64"
      ]
     },
     "execution_count": 18,
     "metadata": {},
     "output_type": "execute_result"
    }
   ],
   "source": [
    "est.pvalues"
   ]
  },
  {
   "cell_type": "markdown",
   "id": "bb67a877-3895-4012-aa02-754beb555037",
   "metadata": {},
   "source": [
    "Use metrics to determine how will the model predicts the actuals by taking the residual difference between prediction and actual\n",
    "\n",
    "Mean Absolute Error MAE how big the magnitude of the error is\n",
    "Mean Squared Error MSE the mean of the squared errors exagerates larger errors with the squaring\n",
    "Root Mean Squared Error RMSE is the root of the mean of the squared errors in y-units"
   ]
  },
  {
   "cell_type": "code",
   "execution_count": 19,
   "id": "2dd7e7a1-c572-4840-8233-4e84659c8472",
   "metadata": {},
   "outputs": [
    {
     "name": "stdout",
     "output_type": "stream",
     "text": [
      "MAE is 1.41\n",
      "MSE is 3.89\n",
      "RMSE is 1.97\n"
     ]
    }
   ],
   "source": [
    "# MAE\n",
    "model_mae = mean_absolute_error(y_test, y_predict)\n",
    "\n",
    "# MSE\n",
    "model_mse = mean_squared_error(y_test, y_predict)\n",
    "\n",
    "# RMSE\n",
    "model_rmse = math.sqrt(model_mse)\n",
    "\n",
    "# Print results\n",
    "print('MAE is {:.3}'.format(model_mae))\n",
    "print('MSE is {:.3}'.format(model_mse))\n",
    "print('RMSE is {:.3}'.format(model_rmse))"
   ]
  },
  {
   "cell_type": "markdown",
   "id": "df056acb-78ac-4ffc-9529-c376533b9b3e",
   "metadata": {},
   "source": [
    "R-squared measures the goodness of fit. The higher the R^2 the better the fit\n",
    "Adjusted R^2 is preferred for larger models where the model size influences R^2\n",
    "R^2 here is 0.71 meaning data explains 71% of the variance"
   ]
  },
  {
   "cell_type": "code",
   "execution_count": 20,
   "id": "985fa00b-4e15-4c6d-b7d4-9f7ac7f80f30",
   "metadata": {},
   "outputs": [
    {
     "name": "stdout",
     "output_type": "stream",
     "text": [
      "R-Squared is 0.71\n"
     ]
    }
   ],
   "source": [
    "model_r2 = r2_score(y_test, y_predict)\n",
    "print('R-Squared is {:.2}'.format(model_r2))"
   ]
  },
  {
   "cell_type": "markdown",
   "id": "b53438d1-acdf-4822-a81c-d050fadf2626",
   "metadata": {},
   "source": [
    "using STASMODEL.API for summary statistics for our modelling"
   ]
  },
  {
   "cell_type": "code",
   "execution_count": 21,
   "id": "ab578e87-84e9-4349-9c5d-070bb5b8229f",
   "metadata": {},
   "outputs": [
    {
     "name": "stdout",
     "output_type": "stream",
     "text": [
      "                            OLS Regression Results                            \n",
      "==============================================================================\n",
      "Dep. Variable:     cons_loan_interest   R-squared:                       0.699\n",
      "Model:                            OLS   Adj. R-squared:                  0.698\n",
      "Method:                 Least Squares   F-statistic:                     472.5\n",
      "Date:                Sun, 19 Mar 2023   Prob (F-statistic):           6.69e-55\n",
      "Time:                        09:26:55   Log-Likelihood:                -406.49\n",
      "No. Observations:                 205   AIC:                             817.0\n",
      "Df Residuals:                     203   BIC:                             823.6\n",
      "Df Model:                           1                                         \n",
      "Covariance Type:            nonrobust                                         \n",
      "==============================================================================\n",
      "                 coef    std err          t      P>|t|      [0.025      0.975]\n",
      "------------------------------------------------------------------------------\n",
      "const         15.1291      0.313     48.356      0.000      14.512      15.746\n",
      "cpi           -0.0391      0.002    -21.738      0.000      -0.043      -0.036\n",
      "==============================================================================\n",
      "Omnibus:                       33.668   Durbin-Watson:                   0.055\n",
      "Prob(Omnibus):                  0.000   Jarque-Bera (JB):               51.125\n",
      "Skew:                           0.926   Prob(JB):                     7.91e-12\n",
      "Kurtosis:                       4.599   Cond. No.                         441.\n",
      "==============================================================================\n",
      "\n",
      "Notes:\n",
      "[1] Standard Errors assume that the covariance matrix of the errors is correctly specified.\n"
     ]
    }
   ],
   "source": [
    "print(est.summary())"
   ]
  },
  {
   "cell_type": "markdown",
   "id": "94acb104-771e-4c42-b13a-b462189918e7",
   "metadata": {},
   "source": [
    "Plot the residuals to see how they look e.g. normal dist'n?"
   ]
  },
  {
   "cell_type": "code",
   "execution_count": 22,
   "id": "0012fcbb-1b2d-440a-9509-d57405d52d25",
   "metadata": {},
   "outputs": [
    {
     "data": {
      "text/plain": [
       "<function matplotlib.pyplot.show(close=None, block=None)>"
      ]
     },
     "execution_count": 22,
     "metadata": {},
     "output_type": "execute_result"
    },
    {
     "data": {
      "image/png": "[encoded data removed]",
      "text/plain": [
       "<Figure size 640x480 with 1 Axes>"
      ]
     },
     "metadata": {},
     "output_type": "display_data"
    }
   ],
   "source": [
    "(y_test - y_predict).hist(grid=False, color = 'royalblue')\n",
    "plt.title(' Plot of Model Residuals')\n",
    "plt.show"
   ]
  },
  {
   "cell_type": "markdown",
   "id": "6a579c2a-dbbd-442a-96fb-010c3d610cbc",
   "metadata": {},
   "source": [
    "Plot the mmodel line"
   ]
  },
  {
   "cell_type": "code",
   "execution_count": 23,
   "id": "a6b5fd8c-2cf6-4590-af5b-161895554c96",
   "metadata": {},
   "outputs": [
    {
     "data": {
      "image/png": "[encoded data removed]",
      "text/plain": [
       "<Figure size 640x480 with 1 Axes>"
      ]
     },
     "metadata": {},
     "output_type": "display_data"
    }
   ],
   "source": [
    "\n",
    "\n",
    "plt.scatter(X_test, y_test, color = 'gainsboro') \n",
    "plt.plot(X_test, y_predict, color = 'red', linewidth = 3, linestyle = '-', label = 'Regression Line')\n",
    "plt.title('Linear Regression Model CPI vs Consumer Loan Interest')\n",
    "plt.xlabel('CPI')\n",
    "plt.ylabel('Consumer Loan Interest')\n",
    "plt.legend()\n",
    "plt.show()\n",
    "\n"
   ]
  },
  {
   "cell_type": "code",
   "execution_count": 24,
   "id": "86ce0ef3-b9a8-4d2f-a44f-ebb42836aab0",
   "metadata": {},
   "outputs": [
    {
     "name": "stderr",
     "output_type": "stream",
     "text": [
      "C:\\Users\\alexd\\anaconda3\\lib\\site-packages\\sklearn\\base.py:450: UserWarning: X does not have valid feature names, but LinearRegression was fitted with feature names\n",
      "  warnings.warn(\n"
     ]
    },
    {
     "data": {
      "text/plain": [
       "array([[13.2610584]])"
      ]
     },
     "execution_count": 24,
     "metadata": {},
     "output_type": "execute_result"
    }
   ],
   "source": [
    "# pickling our model for future use\n",
    "import pickle\n",
    "\n",
    "#save pickle\n",
    "with open('basic_linear_regression_model.sav', 'wb') as f:\n",
    "    pickle.dump(regression_model, f)\n",
    "    \n",
    "# reload model\n",
    "with open('basic_linear_regression_model.sav', 'rb') as f:\n",
    "    regression_model_2 = pickle.load(f)\n",
    "    \n",
    "regression_model_2.predict([[42.7]])\n",
    "    "
   ]
  }
 ],
 "metadata": {
  "kernelspec": {
   "display_name": "Python 3 (ipykernel)",
   "language": "python",
   "name": "python3"
  },
  "language_info": {
   "codemirror_mode": {
    "name": "ipython",
    "version": 3
   },
   "file_extension": ".py",
   "mimetype": "text/x-python",
   "name": "python",
   "nbconvert_exporter": "python",
   "pygments_lexer": "ipython3",
   "version": "3.9.13"
  }
 },
 "nbformat": 4,
 "nbformat_minor": 5
}
